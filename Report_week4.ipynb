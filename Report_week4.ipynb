{
 "cells": [
  {
   "cell_type": "code",
   "execution_count": 2,
   "metadata": {},
   "outputs": [],
   "source": [
    "from pymagnitude import *\n",
    "import matplotlib.pyplot as plt\n",
    "import numpy as np\n",
    "import pandas as pd\n",
    "import enchant\n",
    "from collections import Counter\n",
    "import faiss\n",
    "import re\n",
    "def words(text): return re.findall(r'\\w+', text.lower())\n",
    "WORDS = Counter(words(open('big.txt').read()))\n",
    "d = enchant.Dict(\"en_US\")\n",
    "from operator import itemgetter, attrgetter"
   ]
  },
  {
   "cell_type": "code",
   "execution_count": 3,
   "metadata": {},
   "outputs": [],
   "source": [
    "def spelltest_top(tests , top_rank,show =False):\n",
    "    import time\n",
    "    start = time.clock()\n",
    "    good, unknown = 0, 0\n",
    "    n = len(tests)\n",
    "    for right, wrong in tests:\n",
    "        \n",
    "        right = right.lower().replace('.','').replace(',','').replace('!','').replace('?','')\n",
    "        \n",
    "        wrong = wrong.lower().replace('.','').replace(',','').replace('!','').replace('?','')\n",
    "        w_set = d.suggest(wrong)[:top_rank]\n",
    "        w_set = [ se.lower() for se in w_set]\n",
    "        if right in w_set:\n",
    "            good+=1\n",
    "        else:\n",
    "            unknown += (right not in WORDS)\n",
    "            if show:\n",
    "                print('錯字是 : '+ wrong.replace(' ','') )\n",
    "                print('正確答案是 : ' + right)\n",
    "                print('錯誤建議 : ' , w_set )\n",
    "                print('\\n')\n",
    "    dt = time.clock() - start\n",
    "    print('{:.0%} of {} correct ({:.0%} unknown) at {:.0f} words per second '\n",
    "              .format(good / n, n, unknown / n, n / dt))"
   ]
  },
  {
   "cell_type": "code",
   "execution_count": 4,
   "metadata": {},
   "outputs": [],
   "source": [
    "def dameraulevenshtein(seq1, seq2):\n",
    "    oneago = None\n",
    "    thisrow = list(range(1, len(seq2) + 1)) + [0]\n",
    "    for x in range(len(seq1)):\n",
    "        twoago, oneago, thisrow = oneago, thisrow, [0] * len(seq2) + [x + 1]\n",
    "        for y in range(len(seq2)):\n",
    "            delcost = oneago[y] + 1\n",
    "            addcost = thisrow[y - 1] + 1\n",
    "            subcost = oneago[y - 1] + (seq1[x] != seq2[y])\n",
    "            thisrow[y] = min(delcost, addcost, subcost)\n",
    "            # This block deals with transpositions\n",
    "            if (x > 0 and y > 0 and seq1[x] == seq2[y - 1]\n",
    "                and seq1[x-1] == seq2[y] and seq1[x] != seq2[y]):\n",
    "                thisrow[y] = min(thisrow[y], twoago[y - 2] + 1)\n",
    "    return thisrow[len(seq2) - 1]\n",
    "import difflib\n",
    "def difflib_leven(str1, str2):\n",
    "    leven_cost = 0\n",
    "    s = difflib.SequenceMatcher(None, str1, str2)\n",
    "    for tag, i1, i2, j1, j2 in s.get_opcodes():\n",
    "       #print('{:7} a[{}: {}] --> b[{}: {}] {} --> {}'.format(tag, i1, i2, j1, j2, str1[i1: i2], str2[j1: j2]))\n",
    "        if tag == 'replace':\n",
    "            leven_cost += max(i2-i1, j2-j1)\n",
    "        elif tag == 'insert':\n",
    "            leven_cost += (j2-j1)\n",
    "        elif tag == 'delete':\n",
    "            leven_cost += (i2-i1)\n",
    "    return leven_cost"
   ]
  },
  {
   "cell_type": "markdown",
   "metadata": {},
   "source": [
    "## 抓Ef的錯字標籤的word並當作訓練資料"
   ]
  },
  {
   "cell_type": "code",
   "execution_count": 5,
   "metadata": {},
   "outputs": [],
   "source": [
    "train_set = open('../NLP_Final/gec_data/spell_word_mistake.txt').readlines()\n",
    "train_pair = []\n",
    "count = 0 \n",
    "for line in train_set:\n",
    "    line  = line.replace('\\n','')\n",
    "    c , f = line.split(' ')[1] , line.split(' ')[0]\n",
    "    if c==f:\n",
    "        pass\n",
    "    elif re.search('\\d',c) or re.search('\\d',f) :\n",
    "        pass\n",
    "    elif len(c)< 2 or len(f)<2:\n",
    "        pass\n",
    "    elif dameraulevenshtein(c , f) < 3:\n",
    "        train_pair.append((c ,f))"
   ]
  },
  {
   "cell_type": "code",
   "execution_count": 6,
   "metadata": {},
   "outputs": [
    {
     "name": "stdout",
     "output_type": "stream",
     "text": [
      "719667\n"
     ]
    }
   ],
   "source": [
    "print(len(train_pair))"
   ]
  },
  {
   "cell_type": "markdown",
   "metadata": {},
   "source": [
    "## 引入glove model : </br> Common Crawl (840B tokens, 2.2M vocab, cased, 300d vectors, 2.03 GB download)"
   ]
  },
  {
   "cell_type": "markdown",
   "metadata": {},
   "source": [
    "### glove 可以克服 oov </br>https://github.com/RaRe-Technologies/gensim/issues/1953 ex: hiiiiii"
   ]
  },
  {
   "cell_type": "code",
   "execution_count": 7,
   "metadata": {},
   "outputs": [
    {
     "data": {
      "text/plain": [
       "2196017"
      ]
     },
     "execution_count": 7,
     "metadata": {},
     "output_type": "execute_result"
    }
   ],
   "source": [
    "vectors = Magnitude(\"glove-crawl.magnitude\")\n",
    "len(vectors)"
   ]
  },
  {
   "cell_type": "markdown",
   "metadata": {},
   "source": [
    "## 訓練Transformation Vector 719667個字"
   ]
  },
  {
   "cell_type": "code",
   "execution_count": 8,
   "metadata": {},
   "outputs": [],
   "source": [
    "# 719667\n",
    "spell_transform_eff = np.zeros((300,))\n",
    "count = 0\n",
    "for row in train_pair:\n",
    "    spell_transform_eff += vectors.query(row[1]) - vectors.query(row[0])\n",
    "    count+=1\n",
    "spell_transform_eff /=count"
   ]
  },
  {
   "cell_type": "code",
   "execution_count": 11,
   "metadata": {},
   "outputs": [],
   "source": [
    "np.save('tran_vec',spell_transform_eff)"
   ]
  },
  {
   "cell_type": "code",
   "execution_count": 12,
   "metadata": {},
   "outputs": [],
   "source": [
    "sp = np.load('tran_vec.npy')"
   ]
  },
  {
   "cell_type": "code",
   "execution_count": 13,
   "metadata": {},
   "outputs": [
    {
     "data": {
      "text/plain": [
       "[<matplotlib.lines.Line2D at 0x7f6ab34dd898>]"
      ]
     },
     "execution_count": 13,
     "metadata": {},
     "output_type": "execute_result"
    },
    {
     "data": {
      "image/png": "[encoded data removed]",
      "text/plain": [
       "<matplotlib.figure.Figure at 0x7f6ab4115f98>"
      ]
     },
     "metadata": {},
     "output_type": "display_data"
    }
   ],
   "source": [
    "plt.plot(sp)"
   ]
  },
  {
   "cell_type": "markdown",
   "metadata": {},
   "source": [
    "## V('king')-V('man') + V('woman') = V('queen')</br>V('catt') - V('cat') = transormation vector</br>V(\"catt\") - transormation vector = V('cat')</br>V('spel') - transormation vector = V('spell')"
   ]
  },
  {
   "cell_type": "code",
   "execution_count": 245,
   "metadata": {},
   "outputs": [],
   "source": [
    "correct_word = 'cat'\n",
    "mispell = 'catt'\n",
    "tran = vectors.query(mispell) - vectors.query(correct_word)\n",
    "result = vectors.query(mispell) - tran"
   ]
  },
  {
   "cell_type": "code",
   "execution_count": 246,
   "metadata": {},
   "outputs": [
    {
     "data": {
      "text/plain": [
       "[('cat', 1.0),\n",
       " ('cats', 0.8409757614135742),\n",
       " ('kitten', 0.8215554356575012),\n",
       " ('dog', 0.8016855716705322),\n",
       " ('kitty', 0.7888993620872498),\n",
       " ('pet', 0.7505456209182739),\n",
       " ('puppy', 0.7073981761932373),\n",
       " ('kittens', 0.7045528888702393),\n",
       " ('feline', 0.6990079879760742),\n",
       " ('dogs', 0.6921647787094116)]"
      ]
     },
     "execution_count": 246,
     "metadata": {},
     "output_type": "execute_result"
    }
   ],
   "source": [
    "vectors.most_similar(result)"
   ]
  },
  {
   "cell_type": "code",
   "execution_count": 272,
   "metadata": {},
   "outputs": [
    {
     "data": {
      "text/plain": [
       "[('because', 0.9088381547130999),\n",
       " ('though', 0.8842285298169354),\n",
       " ('becuase', 0.8816407754091361),\n",
       " ('but', 0.8807527736979711),\n",
       " ('becasue', 0.8695713245776706),\n",
       " ('even', 0.8693883346711381),\n",
       " ('becase', 0.8676382439278186),\n",
       " ('why', 0.8674513787224417),\n",
       " ('when', 0.863613613858238),\n",
       " ('reason', 0.859328624995305)]"
      ]
     },
     "execution_count": 272,
     "metadata": {},
     "output_type": "execute_result"
    }
   ],
   "source": [
    "correct_word = 'because'\n",
    "mispell = 'becase'\n",
    "#tran = vectors.query(mispell) - vectors.query(correct_word)\n",
    "result = vectors.query(mispell) - spell_transform_eff * 1.4\n",
    "vectors.most_similar_cosmul(result)"
   ]
  },
  {
   "cell_type": "markdown",
   "metadata": {},
   "source": [
    "## 加速 向量空間相似度的收尋 faiss"
   ]
  },
  {
   "cell_type": "code",
   "execution_count": 276,
   "metadata": {},
   "outputs": [
    {
     "name": "stdout",
     "output_type": "stream",
     "text": [
      "花費 :1.7072443962097168秒\n"
     ]
    }
   ],
   "source": [
    "start = time.time()\n",
    "vectors.most_similar(result,topn=1000)\n",
    "end = time.time()\n",
    "print('花費 :' + str(end - start) + '秒')"
   ]
  },
  {
   "cell_type": "code",
   "execution_count": 277,
   "metadata": {},
   "outputs": [
    {
     "name": "stdout",
     "output_type": "stream",
     "text": [
      "花費 :0.23500847816467285秒\n"
     ]
    }
   ],
   "source": [
    "start = time.time()\n",
    "toWords(getNeighbours(mispell,c=1,neighbours=1000))\n",
    "end = time.time()\n",
    "print('花費 :' + str(end - start) + '秒')"
   ]
  },
  {
   "cell_type": "code",
   "execution_count": 14,
   "metadata": {},
   "outputs": [],
   "source": [
    "emb = np.zeros((len(vectors), 300), dtype=np.float32)\n",
    "w2id = {}\n",
    "id2w=[]\n",
    "for cc , tupe_v in enumerate(vectors):\n",
    "    emb[cc]=tupe_v[1]\n",
    "    w2id[tupe_v[0]]=cc\n",
    "    id2w.append(tupe_v[0])"
   ]
  },
  {
   "cell_type": "code",
   "execution_count": 20,
   "metadata": {},
   "outputs": [],
   "source": [
    "import json\n",
    "jsObj = json.dumps(w2id)\n",
    "fileObject = open('w2id.json', 'w')  \n",
    "fileObject.write(jsObj)  \n",
    "fileObject.close()  "
   ]
  },
  {
   "cell_type": "code",
   "execution_count": 22,
   "metadata": {},
   "outputs": [],
   "source": [
    "fileObject = open('id2w.txt', 'w')\n",
    "for i in id2w:\n",
    "    fileObject.write(i+'\\n')\n",
    "fileObject.close()"
   ]
  },
  {
   "cell_type": "code",
   "execution_count": 23,
   "metadata": {},
   "outputs": [],
   "source": [
    "#np.save('emb_vec',emb)"
   ]
  },
  {
   "cell_type": "code",
   "execution_count": 15,
   "metadata": {},
   "outputs": [
    {
     "name": "stdout",
     "output_type": "stream",
     "text": [
      "2196017 words now in index\n"
     ]
    }
   ],
   "source": [
    "d = emb.shape[1]                            # will be 300 - it's the number of dimensions of each word vector\n",
    "index = faiss.IndexFlatL2(d)\n",
    "index = faiss.IndexFlatIP(d)                # This creates the index\n",
    "index.add(emb)                              # This adds all the word vectors to the index\n",
    "print(index.ntotal, 'words now in index')"
   ]
  },
  {
   "cell_type": "markdown",
   "metadata": {},
   "source": [
    "## 前1000鄰居，然後找50個跟錯字比較相關的(編輯距離)，再來取the best"
   ]
  },
  {
   "cell_type": "code",
   "execution_count": 327,
   "metadata": {},
   "outputs": [],
   "source": [
    "def getNeighbours(word, transform_vector = spell_transform_eff, c=1.0, neighbours=1000,use_faiss=True):\n",
    "    \n",
    "    try:\n",
    "        word_embeds = np.vstack([emb[w2id[word]]])\n",
    "    except:\n",
    "        \n",
    "        word_embeds = np.vstack([vectors.query(word)])\n",
    "    \n",
    "    if use_faiss:\n",
    "        distances, indices = index.search(\n",
    "            (word_embeds - transform_vector*c).astype(np.float32), neighbours)\n",
    "    return indices\n",
    "\n",
    "def toWords(index_list):\n",
    "    res = []\n",
    "    for ind in index_list:\n",
    "        res.append([id2w[x].lower() for x in ind[:]])\n",
    "    result = [ x for r in res for x in sorted(set(r),key = r.index) if d.check(x) ] \n",
    "    return result\n",
    "\n",
    "def pick(candidates_list, mis_word , n , topn=1 , use_similarity = False):\n",
    "    p = []\n",
    "    not_found = True\n",
    "    for c in candidates_list:\n",
    "        #if difflib_leven(c,mis_word)<=3 and len(p)< n:\n",
    "        if dameraulevenshtein(c,mis_word)<=3 and len(p)< n:\n",
    "            \n",
    "            if use_similarity:\n",
    "                sim = f_s.similarity( mis_word , c )\n",
    "                p.append((c,dameraulevenshtein(c,mis_word),sim))\n",
    "            else:\n",
    "                p.append((c , dameraulevenshtein(c , mis_word)))\n",
    "                \n",
    "           \n",
    "            not_found = False\n",
    "            \n",
    "    if not_found:\n",
    "        p.append((mis_word,0,0))\n",
    "\n",
    "        \n",
    "    if use_similarity:\n",
    "        p = sorted(p,key=lambda x : (x[1],-x[2]))\n",
    "    else:\n",
    "        p = sorted(p , key=(lambda x:x[1]))\n",
    "        \n",
    "        \n",
    "    #print(p)\n",
    "    p = [ pp[0] for pp in p ][:topn]\n",
    "    \n",
    "    return p"
   ]
  },
  {
   "cell_type": "code",
   "execution_count": 322,
   "metadata": {},
   "outputs": [],
   "source": [
    "#f_s = Magnitude(\"fasttest-crawl.magnitude\")"
   ]
  },
  {
   "cell_type": "markdown",
   "metadata": {},
   "source": [
    "##  讓維度尺度變大 看Model會不會更好 (c)"
   ]
  },
  {
   "cell_type": "code",
   "execution_count": 323,
   "metadata": {},
   "outputs": [],
   "source": [
    "spell_test1 = [word.replace('\\n','') for word in open('../spelling-corrector-test/spell-testset1.txt','r').readlines()]\n",
    "test1_pair = [(right, wrong) for (right, wrongs) in (line.split(':') for line in spell_test1) for wrong in wrongs.split()]"
   ]
  },
  {
   "cell_type": "code",
   "execution_count": 324,
   "metadata": {},
   "outputs": [],
   "source": [
    "df_test_model1 = pd.DataFrame({'correct': [ c[0] for c in test1_pair], 'incorrect': [ f[1] for f in test1_pair] , 'fixed': [ '' for i in range(len(test1_pair)) ] })"
   ]
  },
  {
   "cell_type": "code",
   "execution_count": 58,
   "metadata": {},
   "outputs": [],
   "source": [
    "# c = 1.3\n",
    "for i in range(len(test1_pair)):\n",
    "    result = pick(toWords(getNeighbours(df_test_model1.incorrect[i],c=1.3)),df_test_model1.incorrect[i],50,1)[0]\n",
    "    df_test_model1.loc[ i ,'fixed'] = result"
   ]
  },
  {
   "cell_type": "code",
   "execution_count": 59,
   "metadata": {},
   "outputs": [
    {
     "name": "stdout",
     "output_type": "stream",
     "text": [
      "202 correct out of 270\n",
      "Accuracy on test set: 74.81%\n"
     ]
    }
   ],
   "source": [
    "print('{} correct out of {}'.format((df_test_model1.fixed==df_test_model1.correct).sum(), len(df_test_model1)))\n",
    "print('Accuracy on test set: {:.2f}%'.format((df_test_model1.fixed==df_test_model1.correct).sum()/len(df_test_model1)*100))"
   ]
  },
  {
   "cell_type": "code",
   "execution_count": 328,
   "metadata": {},
   "outputs": [],
   "source": [
    "# c = 1.3 + similarity\n",
    "for i in range(len(test1_pair)):\n",
    "    result = pick(toWords(getNeighbours(df_test_model1.incorrect[i],c=1.3)),df_test_model1.incorrect[i],50,1,use_similarity=True)[0]\n",
    "    df_test_model1.loc[ i ,'fixed'] = result"
   ]
  },
  {
   "cell_type": "code",
   "execution_count": 329,
   "metadata": {},
   "outputs": [
    {
     "name": "stdout",
     "output_type": "stream",
     "text": [
      "202 correct out of 270\n",
      "Accuracy on test set: 74.81%\n"
     ]
    }
   ],
   "source": [
    "print('{} correct out of {}'.format((df_test_model1.fixed==df_test_model1.correct).sum(), len(df_test_model1)))\n",
    "print('Accuracy on test set: {:.2f}%'.format((df_test_model1.fixed==df_test_model1.correct).sum()/len(df_test_model1)*100))"
   ]
  },
  {
   "cell_type": "code",
   "execution_count": 61,
   "metadata": {},
   "outputs": [
    {
     "name": "stdout",
     "output_type": "stream",
     "text": [
      "197 correct out of 270\n",
      "Accuracy on test set: 72.96%\n"
     ]
    }
   ],
   "source": [
    "# c = 1\n",
    "for i in range(len(test1_pair)):\n",
    "    result = pick(toWords(getNeighbours(df_test_model1.incorrect[i],c=1)),df_test_model1.incorrect[i],50,1)[0]\n",
    "    df_test_model1.loc[ i ,'fixed'] = result\n",
    "    \n",
    "print('{} correct out of {}'.format((df_test_model1.fixed==df_test_model1.correct).sum(), len(df_test_model1)))\n",
    "print('Accuracy on test set: {:.2f}%'.format((df_test_model1.fixed==df_test_model1.correct).sum()/len(df_test_model1)*100))"
   ]
  },
  {
   "cell_type": "code",
   "execution_count": 62,
   "metadata": {},
   "outputs": [
    {
     "name": "stdout",
     "output_type": "stream",
     "text": [
      "200 correct out of 270\n",
      "Accuracy on test set: 74.07%\n"
     ]
    }
   ],
   "source": [
    "# c = 1.1\n",
    "for i in range(len(test1_pair)):\n",
    "    result = pick(toWords(getNeighbours(df_test_model1.incorrect[i],c=1.1)),df_test_model1.incorrect[i],50,1)[0]\n",
    "    df_test_model1.loc[ i ,'fixed'] = result\n",
    "    \n",
    "print('{} correct out of {}'.format((df_test_model1.fixed==df_test_model1.correct).sum(), len(df_test_model1)))\n",
    "print('Accuracy on test set: {:.2f}%'.format((df_test_model1.fixed==df_test_model1.correct).sum()/len(df_test_model1)*100))"
   ]
  },
  {
   "cell_type": "code",
   "execution_count": 63,
   "metadata": {},
   "outputs": [
    {
     "name": "stdout",
     "output_type": "stream",
     "text": [
      "200 correct out of 270\n",
      "Accuracy on test set: 74.07%\n"
     ]
    }
   ],
   "source": [
    "# c = 1.2\n",
    "for i in range(len(test1_pair)):\n",
    "    result = pick(toWords(getNeighbours(df_test_model1.incorrect[i],c=1.2)),df_test_model1.incorrect[i],50,1)[0]\n",
    "    df_test_model1.loc[ i ,'fixed'] = result\n",
    "    \n",
    "print('{} correct out of {}'.format((df_test_model1.fixed==df_test_model1.correct).sum(), len(df_test_model1)))\n",
    "print('Accuracy on test set: {:.2f}%'.format((df_test_model1.fixed==df_test_model1.correct).sum()/len(df_test_model1)*100))"
   ]
  },
  {
   "cell_type": "code",
   "execution_count": 64,
   "metadata": {},
   "outputs": [
    {
     "name": "stdout",
     "output_type": "stream",
     "text": [
      "202 correct out of 270\n",
      "Accuracy on test set: 74.81%\n"
     ]
    }
   ],
   "source": [
    "# c = 1.4\n",
    "for i in range(len(test1_pair)):\n",
    "    result = pick(toWords(getNeighbours(df_test_model1.incorrect[i],c=1.4)),df_test_model1.incorrect[i],50,1)[0]\n",
    "    df_test_model1.loc[ i ,'fixed'] = result\n",
    "    \n",
    "print('{} correct out of {}'.format((df_test_model1.fixed==df_test_model1.correct).sum(), len(df_test_model1)))\n",
    "print('Accuracy on test set: {:.2f}%'.format((df_test_model1.fixed==df_test_model1.correct).sum()/len(df_test_model1)*100))"
   ]
  },
  {
   "cell_type": "code",
   "execution_count": 65,
   "metadata": {},
   "outputs": [
    {
     "name": "stdout",
     "output_type": "stream",
     "text": [
      "199 correct out of 270\n",
      "Accuracy on test set: 73.70%\n"
     ]
    }
   ],
   "source": [
    "# c = 1.5\n",
    "for i in range(len(test1_pair)):\n",
    "    result = pick(toWords(getNeighbours(df_test_model1.incorrect[i],c=1.5)),df_test_model1.incorrect[i],50,1)[0]\n",
    "    df_test_model1.loc[ i ,'fixed'] = result\n",
    "    \n",
    "print('{} correct out of {}'.format((df_test_model1.fixed==df_test_model1.correct).sum(), len(df_test_model1)))\n",
    "print('Accuracy on test set: {:.2f}%'.format((df_test_model1.fixed==df_test_model1.correct).sum()/len(df_test_model1)*100))"
   ]
  },
  {
   "cell_type": "markdown",
   "metadata": {},
   "source": [
    "## Corpora of misspellings  http://www.dcs.bbk.ac.uk/~ROGER/corpora.html"
   ]
  },
  {
   "cell_type": "code",
   "execution_count": 206,
   "metadata": {},
   "outputs": [],
   "source": [
    "birkbect_test = [word.replace('\\n','') for word in open('../spelling-corrector-test/birkbeck.txt','r').readlines()]\n",
    "wiki_test = [word.replace('\\n','') for word in open('../spelling-corrector-test/wikipedia.txt','r').readlines()]\n",
    "aspell_test = [word.replace('\\n','') for word in open('../spelling-corrector-test/aspell.txt','r').readlines()]\n",
    "spell_test1 = [word.replace('\\n','') for word in open('../spelling-corrector-test/spell-testset1.txt','r').readlines()]\n",
    "spell_test2 = [word.replace('\\n','') for word in open('../spelling-corrector-test/spell-testset2.txt','r').readlines()]\n",
    "as_test = [word.replace('\\n','') for word in open('../spelling-corrector-test/as.txt','r').readlines()]"
   ]
  },
  {
   "cell_type": "code",
   "execution_count": 207,
   "metadata": {},
   "outputs": [],
   "source": [
    "birbect_pair = [(right, wrong) for (right, wrongs) in (line.split(':') for line in birkbect_test) for wrong in wrongs.split()]\n",
    "wiki_pair = [(right, wrong) for (right, wrongs) in (line.split(':') for line in wiki_test) for wrong in wrongs.split()] \n",
    "aspell_pair = [(right, wrong) for (right, wrongs) in (line.split(':') for line in wiki_test) for wrong in wrongs.split()] \n",
    "test1_pair = [(right, wrong) for (right, wrongs) in (line.split(':') for line in spell_test1) for wrong in wrongs.split()] \n",
    "test2_pair = [(right, wrong) for (right, wrongs) in (line.split(':') for line in spell_test2) for wrong in wrongs.split()] \n",
    "as_pair = [(right, wrong) for (wrong, right) in (line.split('\\t') for line in as_test)] "
   ]
  },
  {
   "cell_type": "code",
   "execution_count": 290,
   "metadata": {},
   "outputs": [],
   "source": [
    "birbect_pair_text = random.sample(birbect_pair,500)"
   ]
  },
  {
   "cell_type": "code",
   "execution_count": 291,
   "metadata": {},
   "outputs": [],
   "source": [
    "wiki_pair_test = random.sample(wiki_pair,1000)\n",
    "aspell_pair_test = random.sample(aspell_pair,1000)"
   ]
  },
  {
   "cell_type": "code",
   "execution_count": 292,
   "metadata": {},
   "outputs": [
    {
     "name": "stdout",
     "output_type": "stream",
     "text": [
      "1000\n",
      "500\n",
      "1000\n",
      "270\n",
      "400\n"
     ]
    }
   ],
   "source": [
    "print(len(wiki_pair_test))\n",
    "print(len(birbect_pair_text))\n",
    "print(len(aspell_pair_test))\n",
    "print(len(test1_pair))\n",
    "print(len(test2_pair))"
   ]
  },
  {
   "cell_type": "markdown",
   "metadata": {},
   "source": [
    "# Wordvec transformation vector vs enchant\n",
    "\n",
    "## Birkbeck 500筆 32.2%    <   32.8% \n",
    "## Ef 1000筆     57.8%   >   57.1%  \n",
    "## Wiki_pair_test 1000筆 76.9%   >   72.7%\n",
    "## Aspell_pair_test 547筆 73.2%   >   73%\n",
    "## Test1_pair 270筆 74.8%   >   67%\n",
    "## Test2_pair 400筆 71.25%   >   67%"
   ]
  },
  {
   "cell_type": "code",
   "execution_count": 330,
   "metadata": {},
   "outputs": [],
   "source": [
    "df_test_model1 = pd.DataFrame({'correct': [ c[0].lower() for c in birbect_pair_text], 'incorrect': [ f[1].lower() for f in birbect_pair_text] , 'fixed': [ '' for i in range(len(birbect_pair_text)) ] })"
   ]
  },
  {
   "cell_type": "code",
   "execution_count": 1,
   "metadata": {},
   "outputs": [
    {
     "ename": "NameError",
     "evalue": "name 'time' is not defined",
     "output_type": "error",
     "traceback": [
      "\u001b[0;31m---------------------------------------------------------------------------\u001b[0m",
      "\u001b[0;31mNameError\u001b[0m                                 Traceback (most recent call last)",
      "\u001b[0;32m<ipython-input-1-1e7943786775>\u001b[0m in \u001b[0;36m<module>\u001b[0;34m()\u001b[0m\n\u001b[0;32m----> 1\u001b[0;31m \u001b[0mstart\u001b[0m \u001b[0;34m=\u001b[0m \u001b[0mtime\u001b[0m\u001b[0;34m.\u001b[0m\u001b[0mtime\u001b[0m\u001b[0;34m(\u001b[0m\u001b[0;34m)\u001b[0m\u001b[0;34m\u001b[0m\u001b[0m\n\u001b[0m\u001b[1;32m      2\u001b[0m \u001b[0;32mfor\u001b[0m \u001b[0mi\u001b[0m \u001b[0;32min\u001b[0m \u001b[0mrange\u001b[0m\u001b[0;34m(\u001b[0m\u001b[0mlen\u001b[0m\u001b[0;34m(\u001b[0m\u001b[0mbirbect_pair_test\u001b[0m\u001b[0;34m)\u001b[0m\u001b[0;34m)\u001b[0m\u001b[0;34m:\u001b[0m\u001b[0;34m\u001b[0m\u001b[0m\n\u001b[1;32m      3\u001b[0m     \u001b[0mresult\u001b[0m \u001b[0;34m=\u001b[0m \u001b[0mpick\u001b[0m\u001b[0;34m(\u001b[0m\u001b[0mtoWords\u001b[0m\u001b[0;34m(\u001b[0m\u001b[0mgetNeighbours\u001b[0m\u001b[0;34m(\u001b[0m\u001b[0mdf_test_model1\u001b[0m\u001b[0;34m.\u001b[0m\u001b[0mincorrect\u001b[0m\u001b[0;34m[\u001b[0m\u001b[0mi\u001b[0m\u001b[0;34m]\u001b[0m\u001b[0;34m,\u001b[0m\u001b[0mc\u001b[0m\u001b[0;34m=\u001b[0m\u001b[0;36m1.4\u001b[0m\u001b[0;34m)\u001b[0m\u001b[0;34m)\u001b[0m\u001b[0;34m,\u001b[0m\u001b[0mdf_test_model1\u001b[0m\u001b[0;34m.\u001b[0m\u001b[0mincorrect\u001b[0m\u001b[0;34m[\u001b[0m\u001b[0mi\u001b[0m\u001b[0;34m]\u001b[0m\u001b[0;34m,\u001b[0m\u001b[0;36m50\u001b[0m\u001b[0;34m,\u001b[0m\u001b[0;36m1\u001b[0m\u001b[0;34m)\u001b[0m\u001b[0;34m[\u001b[0m\u001b[0;36m0\u001b[0m\u001b[0;34m]\u001b[0m\u001b[0;34m\u001b[0m\u001b[0m\n\u001b[1;32m      4\u001b[0m     \u001b[0mdf_test_model1\u001b[0m\u001b[0;34m.\u001b[0m\u001b[0mloc\u001b[0m\u001b[0;34m[\u001b[0m \u001b[0mi\u001b[0m \u001b[0;34m,\u001b[0m\u001b[0;34m'fixed'\u001b[0m\u001b[0;34m]\u001b[0m \u001b[0;34m=\u001b[0m \u001b[0mresult\u001b[0m\u001b[0;34m\u001b[0m\u001b[0m\n\u001b[1;32m      5\u001b[0m \u001b[0mprint\u001b[0m\u001b[0;34m(\u001b[0m\u001b[0;34m'{} correct out of {}'\u001b[0m\u001b[0;34m.\u001b[0m\u001b[0mformat\u001b[0m\u001b[0;34m(\u001b[0m\u001b[0;34m(\u001b[0m\u001b[0mdf_test_model1\u001b[0m\u001b[0;34m.\u001b[0m\u001b[0mfixed\u001b[0m\u001b[0;34m==\u001b[0m\u001b[0mdf_test_model1\u001b[0m\u001b[0;34m.\u001b[0m\u001b[0mcorrect\u001b[0m\u001b[0;34m)\u001b[0m\u001b[0;34m.\u001b[0m\u001b[0msum\u001b[0m\u001b[0;34m(\u001b[0m\u001b[0;34m)\u001b[0m\u001b[0;34m,\u001b[0m \u001b[0mlen\u001b[0m\u001b[0;34m(\u001b[0m\u001b[0mdf_test_model1\u001b[0m\u001b[0;34m)\u001b[0m\u001b[0;34m)\u001b[0m\u001b[0;34m)\u001b[0m\u001b[0;34m\u001b[0m\u001b[0m\n",
      "\u001b[0;31mNameError\u001b[0m: name 'time' is not defined"
     ]
    }
   ],
   "source": [
    "start = time.time()\n",
    "for i in range(len(birbect_pair_test)):\n",
    "    result = pick(toWords(getNeighbours(df_test_model1.incorrect[i],c=1.4)),df_test_model1.incorrect[i],50,1)[0]\n",
    "    df_test_model1.loc[ i ,'fixed'] = result \n",
    "print('{} correct out of {}'.format((df_test_model1.fixed==df_test_model1.correct).sum(), len(df_test_model1)))\n",
    "print('Accuracy on test set: {:.2f}%'.format((df_test_model1.fixed==df_test_model1.correct).sum()/len(df_test_model1)*100))\n",
    "end = time.time()\n",
    "print('花費 :' + str(end - start) + '秒')"
   ]
  },
  {
   "cell_type": "code",
   "execution_count": 333,
   "metadata": {},
   "outputs": [
    {
     "name": "stdout",
     "output_type": "stream",
     "text": [
      "161 correct out of 500\n",
      "Accuracy on test set: 32.20%\n",
      "花費 :255.87276887893677秒\n"
     ]
    }
   ],
   "source": [
    "start = time.time()\n",
    "for i in range(len(birbect_pair_test)):\n",
    "    result = pick(toWords(getNeighbours(df_test_model1.incorrect[i],c=1.4)),df_test_model1.incorrect[i],50,1,use_similarity=True)[0]\n",
    "    df_test_model1.loc[ i ,'fixed'] = result \n",
    "print('{} correct out of {}'.format((df_test_model1.fixed==df_test_model1.correct).sum(), len(df_test_model1)))\n",
    "print('Accuracy on test set: {:.2f}%'.format((df_test_model1.fixed==df_test_model1.correct).sum()/len(df_test_model1)*100))\n",
    "end = time.time()\n",
    "print('花費 :' + str(end - start) + '秒')"
   ]
  },
  {
   "cell_type": "code",
   "execution_count": 311,
   "metadata": {},
   "outputs": [
    {
     "name": "stdout",
     "output_type": "stream",
     "text": [
      "33% of 1000 correct (6% unknown) at 37 words per second \n",
      "花費 :28.23218870162964秒\n"
     ]
    }
   ],
   "source": [
    "start = time.time()\n",
    "spelltest_top(birbect_pair_test,top_rank=1)\n",
    "end = time.time()\n",
    "\n",
    "print('花費 :' + str(end - start) + '秒')"
   ]
  },
  {
   "cell_type": "markdown",
   "metadata": {},
   "source": [
    "## Ef 1000筆"
   ]
  },
  {
   "cell_type": "code",
   "execution_count": 346,
   "metadata": {},
   "outputs": [],
   "source": [
    "df_test_model1 = pd.DataFrame({'correct': [ c[0].lower() for c in train_pair[:1000]], 'incorrect': [ f[1].lower() for f in train_pair[:1000]] , 'fixed': [ '' for i in range(len(train_pair[:1000])) ] })"
   ]
  },
  {
   "cell_type": "code",
   "execution_count": 227,
   "metadata": {},
   "outputs": [
    {
     "name": "stdout",
     "output_type": "stream",
     "text": [
      "578 correct out of 1000\n",
      "Accuracy on test set: 57.80%\n",
      "花費 :254.10177278518677秒\n"
     ]
    }
   ],
   "source": [
    "start = time.time()\n",
    "for i in range(len(train_pair[:1000])):\n",
    "    result = pick(toWords(getNeighbours(df_test_model1.incorrect[i],c=1.4)),df_test_model1.incorrect[i],50,1)[0]\n",
    "    df_test_model1.loc[ i ,'fixed'] = result \n",
    "print('{} correct out of {}'.format((df_test_model1.fixed==df_test_model1.correct).sum(), len(df_test_model1)))\n",
    "print('Accuracy on test set: {:.2f}%'.format((df_test_model1.fixed==df_test_model1.correct).sum()/len(df_test_model1)*100))\n",
    "end = time.time()\n",
    "print('花費 :' + str(end - start) + '秒')"
   ]
  },
  {
   "cell_type": "code",
   "execution_count": 347,
   "metadata": {},
   "outputs": [
    {
     "name": "stdout",
     "output_type": "stream",
     "text": [
      "571 correct out of 1000\n",
      "Accuracy on test set: 57.10%\n",
      "花費 :306.47544169425964秒\n"
     ]
    }
   ],
   "source": [
    "start = time.time()\n",
    "for i in range(len(train_pair[:1000])):\n",
    "    result = pick(toWords(getNeighbours(df_test_model1.incorrect[i],c=1.4)),df_test_model1.incorrect[i],50,1,use_similarity=True)[0]\n",
    "    df_test_model1.loc[ i ,'fixed'] = result \n",
    "print('{} correct out of {}'.format((df_test_model1.fixed==df_test_model1.correct).sum(), len(df_test_model1)))\n",
    "print('Accuracy on test set: {:.2f}%'.format((df_test_model1.fixed==df_test_model1.correct).sum()/len(df_test_model1)*100))\n",
    "end = time.time()\n",
    "print('花費 :' + str(end - start) + '秒')"
   ]
  },
  {
   "cell_type": "code",
   "execution_count": 228,
   "metadata": {},
   "outputs": [
    {
     "name": "stdout",
     "output_type": "stream",
     "text": [
      "52% of 1000 correct (10% unknown) at 40 words per second \n",
      "花費 :31.05444836616516秒\n"
     ]
    }
   ],
   "source": [
    "start = time.time()\n",
    "spelltest_top(train_pair[:1000],top_rank=1)\n",
    "end = time.time()\n",
    "print('花費 :' + str(end - start) + '秒')"
   ]
  },
  {
   "cell_type": "markdown",
   "metadata": {},
   "source": [
    "## Wiki_pair_test  1000筆"
   ]
  },
  {
   "cell_type": "code",
   "execution_count": 213,
   "metadata": {},
   "outputs": [],
   "source": [
    "df_test_model1 = pd.DataFrame({'correct': [ c[0].lower() for c in wiki_pair_test], 'incorrect': [ f[1].lower() for f in wiki_pair_test] , 'fixed': [ '' for i in range(len(wiki_pair_test)) ] })"
   ]
  },
  {
   "cell_type": "code",
   "execution_count": 214,
   "metadata": {},
   "outputs": [
    {
     "name": "stdout",
     "output_type": "stream",
     "text": [
      "769 correct out of 1000\n",
      "Accuracy on test set: 76.90%\n",
      "花費 :253.683776140213秒\n"
     ]
    }
   ],
   "source": [
    "start = time.time()\n",
    "for i in range(len(wiki_pair_test)):\n",
    "    result = pick(toWords(getNeighbours(df_test_model1.incorrect[i],c=1.4)),df_test_model1.incorrect[i],50,1)[0]\n",
    "    df_test_model1.loc[ i ,'fixed'] = result \n",
    "print('{} correct out of {}'.format((df_test_model1.fixed==df_test_model1.correct).sum(), len(df_test_model1)))\n",
    "print('Accuracy on test set: {:.2f}%'.format((df_test_model1.fixed==df_test_model1.correct).sum()/len(df_test_model1)*100))\n",
    "end = time.time()\n",
    "print('花費 :' + str(end - start) + '秒')"
   ]
  },
  {
   "cell_type": "code",
   "execution_count": 345,
   "metadata": {},
   "outputs": [
    {
     "name": "stdout",
     "output_type": "stream",
     "text": [
      "727 correct out of 1000\n",
      "Accuracy on test set: 72.70%\n",
      "花費 :278.3424596786499秒\n"
     ]
    }
   ],
   "source": [
    "start = time.time()\n",
    "for i in range(len(wiki_pair_test)):\n",
    "    result = pick(toWords(getNeighbours(df_test_model1.incorrect[i],c=1.4)),df_test_model1.incorrect[i],50,1,use_similarity=True)[0]\n",
    "    df_test_model1.loc[ i ,'fixed'] = result \n",
    "print('{} correct out of {}'.format((df_test_model1.fixed==df_test_model1.correct).sum(), len(df_test_model1)))\n",
    "print('Accuracy on test set: {:.2f}%'.format((df_test_model1.fixed==df_test_model1.correct).sum()/len(df_test_model1)*100))\n",
    "end = time.time()\n",
    "print('花費 :' + str(end - start) + '秒')"
   ]
  },
  {
   "cell_type": "code",
   "execution_count": 215,
   "metadata": {},
   "outputs": [],
   "source": [
    "#df_test_model1[df_test_model1.correct!=df_test_model1.fixed]"
   ]
  },
  {
   "cell_type": "code",
   "execution_count": 216,
   "metadata": {},
   "outputs": [
    {
     "name": "stdout",
     "output_type": "stream",
     "text": [
      "75% of 1000 correct (6% unknown) at 31 words per second \n",
      "花費 :33.22955060005188秒\n"
     ]
    }
   ],
   "source": [
    "start = time.time()\n",
    "spelltest_top(wiki_pair_test,top_rank=1)\n",
    "end = time.time()\n",
    "print('花費 :' + str(end - start) + '秒')"
   ]
  },
  {
   "cell_type": "markdown",
   "metadata": {},
   "source": [
    "## Aspell_pair_test 547筆"
   ]
  },
  {
   "cell_type": "code",
   "execution_count": 342,
   "metadata": {},
   "outputs": [],
   "source": [
    "df_test_model1 = pd.DataFrame({'correct': [ c[0] for c in aspell_pair_test], 'incorrect': [ f[1] for f in aspell_pair_test] , 'fixed': [ '' for i in range(len(aspell_pair_test)) ] })"
   ]
  },
  {
   "cell_type": "code",
   "execution_count": 343,
   "metadata": {},
   "outputs": [
    {
     "name": "stdout",
     "output_type": "stream",
     "text": [
      "727 correct out of 1000\n",
      "Accuracy on test set: 72.70%\n",
      "花費 :294.887166261673秒\n"
     ]
    }
   ],
   "source": [
    "start = time.time()\n",
    "for i in range(len(aspell_pair_test)):\n",
    "    result = pick(toWords(getNeighbours(df_test_model1.incorrect[i],c=1.4)),df_test_model1.incorrect[i],50,1,use_similarity=True)[0]\n",
    "    df_test_model1.loc[ i ,'fixed'] = result \n",
    "print('{} correct out of {}'.format((df_test_model1.fixed==df_test_model1.correct).sum(), len(df_test_model1)))\n",
    "print('Accuracy on test set: {:.2f}%'.format((df_test_model1.fixed==df_test_model1.correct).sum()/len(df_test_model1)*100))\n",
    "end = time.time()\n",
    "print('花費 :' + str(end - start) + '秒')"
   ]
  },
  {
   "cell_type": "code",
   "execution_count": 344,
   "metadata": {},
   "outputs": [
    {
     "name": "stdout",
     "output_type": "stream",
     "text": [
      "732 correct out of 1000\n",
      "Accuracy on test set: 73.20%\n",
      "花費 :277.9383387565613秒\n"
     ]
    }
   ],
   "source": [
    "start = time.time()\n",
    "for i in range(len(aspell_pair_test)):\n",
    "    result = pick(toWords(getNeighbours(df_test_model1.incorrect[i],c=1.4)),df_test_model1.incorrect[i],50,1)[0]\n",
    "    df_test_model1.loc[ i ,'fixed'] = result \n",
    "print('{} correct out of {}'.format((df_test_model1.fixed==df_test_model1.correct).sum(), len(df_test_model1)))\n",
    "print('Accuracy on test set: {:.2f}%'.format((df_test_model1.fixed==df_test_model1.correct).sum()/len(df_test_model1)*100))\n",
    "end = time.time()\n",
    "print('花費 :' + str(end - start) + '秒')"
   ]
  },
  {
   "cell_type": "code",
   "execution_count": 219,
   "metadata": {},
   "outputs": [
    {
     "name": "stdout",
     "output_type": "stream",
     "text": [
      "73% of 1000 correct (7% unknown) at 32 words per second \n",
      "花費 :33.0398211479187秒\n"
     ]
    }
   ],
   "source": [
    "start = time.time()\n",
    "spelltest_top(aspell_pair_test,top_rank=1)\n",
    "end = time.time()\n",
    "print('花費 :' + str(end - start) + '秒')"
   ]
  },
  {
   "cell_type": "markdown",
   "metadata": {},
   "source": [
    "## Test1_pair"
   ]
  },
  {
   "cell_type": "code",
   "execution_count": 338,
   "metadata": {},
   "outputs": [],
   "source": [
    "df_test_model1 = pd.DataFrame({'correct': [ c[0] for c in test1_pair], 'incorrect': [ f[1] for f in test1_pair] , 'fixed': [ '' for i in range(len(test1_pair)) ] })"
   ]
  },
  {
   "cell_type": "code",
   "execution_count": 221,
   "metadata": {},
   "outputs": [
    {
     "name": "stdout",
     "output_type": "stream",
     "text": [
      "202 correct out of 270\n",
      "Accuracy on test set: 74.81%\n",
      "花費 :68.44203805923462秒\n"
     ]
    }
   ],
   "source": [
    "start = time.time()\n",
    "for i in range(len(test1_pair)):\n",
    "    result = pick(toWords(getNeighbours(df_test_model1.incorrect[i],c=1.4)),df_test_model1.incorrect[i],50,1)[0]\n",
    "    df_test_model1.loc[ i ,'fixed'] = result \n",
    "print('{} correct out of {}'.format((df_test_model1.fixed==df_test_model1.correct).sum(), len(df_test_model1)))\n",
    "print('Accuracy on test set: {:.2f}%'.format((df_test_model1.fixed==df_test_model1.correct).sum()/len(df_test_model1)*100))\n",
    "end = time.time()\n",
    "print('花費 :' + str(end - start) + '秒')"
   ]
  },
  {
   "cell_type": "code",
   "execution_count": 339,
   "metadata": {},
   "outputs": [
    {
     "name": "stdout",
     "output_type": "stream",
     "text": [
      "202 correct out of 270\n",
      "Accuracy on test set: 74.81%\n",
      "花費 :74.38259649276733秒\n"
     ]
    }
   ],
   "source": [
    "start = time.time()\n",
    "for i in range(len(test1_pair)):\n",
    "    result = pick(toWords(getNeighbours(df_test_model1.incorrect[i],c=1.4)),df_test_model1.incorrect[i],50,1,use_similarity=True)[0]\n",
    "    df_test_model1.loc[ i ,'fixed'] = result \n",
    "print('{} correct out of {}'.format((df_test_model1.fixed==df_test_model1.correct).sum(), len(df_test_model1)))\n",
    "print('Accuracy on test set: {:.2f}%'.format((df_test_model1.fixed==df_test_model1.correct).sum()/len(df_test_model1)*100))\n",
    "end = time.time()\n",
    "print('花費 :' + str(end - start) + '秒')"
   ]
  },
  {
   "cell_type": "code",
   "execution_count": 222,
   "metadata": {},
   "outputs": [
    {
     "name": "stdout",
     "output_type": "stream",
     "text": [
      "67% of 270 correct (3% unknown) at 33 words per second \n",
      "花費 :9.60692548751831秒\n"
     ]
    }
   ],
   "source": [
    "start = time.time()\n",
    "spelltest_top(test1_pair,top_rank=1)\n",
    "end = time.time()\n",
    "print('花費 :' + str(end - start) + '秒')"
   ]
  },
  {
   "cell_type": "markdown",
   "metadata": {},
   "source": [
    "## Test2_pair"
   ]
  },
  {
   "cell_type": "code",
   "execution_count": 340,
   "metadata": {},
   "outputs": [],
   "source": [
    "df_test_model1 = pd.DataFrame({'correct': [ c[0] for c in test2_pair], 'incorrect': [ f[1] for f in test2_pair] , 'fixed': [ '' for i in range(len(test2_pair)) ] })"
   ]
  },
  {
   "cell_type": "code",
   "execution_count": 224,
   "metadata": {},
   "outputs": [
    {
     "name": "stdout",
     "output_type": "stream",
     "text": [
      "285 correct out of 400\n",
      "Accuracy on test set: 71.25%\n",
      "花費 :101.21404552459717秒\n"
     ]
    }
   ],
   "source": [
    "start = time.time()\n",
    "for i in range(len(test2_pair)):\n",
    "    result = pick(toWords(getNeighbours(df_test_model1.incorrect[i],c=1.4)),df_test_model1.incorrect[i],50,1)[0]\n",
    "    df_test_model1.loc[ i ,'fixed'] = result \n",
    "print('{} correct out of {}'.format((df_test_model1.fixed==df_test_model1.correct).sum(), len(df_test_model1)))\n",
    "print('Accuracy on test set: {:.2f}%'.format((df_test_model1.fixed==df_test_model1.correct).sum()/len(df_test_model1)*100))\n",
    "end = time.time()\n",
    "print('花費 :' + str(end - start) + '秒')"
   ]
  },
  {
   "cell_type": "code",
   "execution_count": 341,
   "metadata": {},
   "outputs": [
    {
     "name": "stdout",
     "output_type": "stream",
     "text": [
      "284 correct out of 400\n",
      "Accuracy on test set: 71.00%\n",
      "花費 :116.53924870491028秒\n"
     ]
    }
   ],
   "source": [
    "start = time.time()\n",
    "for i in range(len(test2_pair)):\n",
    "    result = pick(toWords(getNeighbours(df_test_model1.incorrect[i],c=1.4)),df_test_model1.incorrect[i],50,1,use_similarity=True)[0]\n",
    "    df_test_model1.loc[ i ,'fixed'] = result \n",
    "print('{} correct out of {}'.format((df_test_model1.fixed==df_test_model1.correct).sum(), len(df_test_model1)))\n",
    "print('Accuracy on test set: {:.2f}%'.format((df_test_model1.fixed==df_test_model1.correct).sum()/len(df_test_model1)*100))\n",
    "end = time.time()\n",
    "print('花費 :' + str(end - start) + '秒')"
   ]
  },
  {
   "cell_type": "code",
   "execution_count": 225,
   "metadata": {},
   "outputs": [
    {
     "name": "stdout",
     "output_type": "stream",
     "text": [
      "67% of 400 correct (5% unknown) at 32 words per second \n",
      "花費 :12.6361083984375秒\n"
     ]
    }
   ],
   "source": [
    "start = time.time()\n",
    "spelltest_top(test2_pair,top_rank=1)\n",
    "end = time.time()\n",
    "print('花費 :' + str(end - start) + '秒')"
   ]
  },
  {
   "cell_type": "code",
   "execution_count": null,
   "metadata": {},
   "outputs": [],
   "source": []
  },
  {
   "cell_type": "markdown",
   "metadata": {},
   "source": [
    "## 比較查詢每個字花的時間"
   ]
  },
  {
   "cell_type": "code",
   "execution_count": 351,
   "metadata": {},
   "outputs": [
    {
     "name": "stdout",
     "output_type": "stream",
     "text": [
      "['leaves', 'leave', 'leads', 'leafs', 'least']\n",
      "花費 :0.8489212989807129秒\n"
     ]
    }
   ],
   "source": [
    "start = time.time()\n",
    "mispell = 'leavs '\n",
    "print(pick(toWords(getNeighbours(mispell,c=1.4)),mispell,50,5))\n",
    "end = time.time()\n",
    "print('花費 :' + str(end - start) + '秒')"
   ]
  },
  {
   "cell_type": "code",
   "execution_count": 352,
   "metadata": {},
   "outputs": [
    {
     "name": "stdout",
     "output_type": "stream",
     "text": [
      "['leaves', 'leave', 'loaves', 'Levesque']\n",
      "花費 :0.02742934226989746秒\n"
     ]
    }
   ],
   "source": [
    "start = time.time()\n",
    "print(d.suggest(mispell))\n",
    "end = time.time()\n",
    "print('花費 :' + str(end - start) + '秒')"
   ]
  },
  {
   "cell_type": "code",
   "execution_count": null,
   "metadata": {},
   "outputs": [],
   "source": []
  }
 ],
 "metadata": {
  "kernelspec": {
   "display_name": "Python [conda root]",
   "language": "python",
   "name": "conda-root-py"
  },
  "language_info": {
   "codemirror_mode": {
    "name": "ipython",
    "version": 3
   },
   "file_extension": ".py",
   "mimetype": "text/x-python",
   "name": "python",
   "nbconvert_exporter": "python",
   "pygments_lexer": "ipython3",
   "version": "3.6.4"
  }
 },
 "nbformat": 4,
 "nbformat_minor": 2
}
